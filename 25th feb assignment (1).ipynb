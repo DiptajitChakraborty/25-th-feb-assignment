{
 "cells": [
  {
   "cell_type": "code",
   "execution_count": 1,
   "id": "57f8ffb0-cd7f-4aa7-918f-d6f4d562745a",
   "metadata": {},
   "outputs": [],
   "source": [
    "#Q1. Write a code to print the data present in the second row of the dataframe, df."
   ]
  },
  {
   "cell_type": "code",
   "execution_count": 2,
   "id": "39f2f81e-1d60-4be6-9742-fdce796c7299",
   "metadata": {},
   "outputs": [],
   "source": [
    "#Ans:\n",
    "import pandas as pd\n"
   ]
  },
  {
   "cell_type": "code",
   "execution_count": 3,
   "id": "091e787b-eb93-4b9e-a126-cdaa3f16b95f",
   "metadata": {},
   "outputs": [],
   "source": [
    "course_name = ['Data Science', 'Machine Learning', 'Big Data', 'Data Engineer']\n",
    "duration = [2,3,6,4]"
   ]
  },
  {
   "cell_type": "code",
   "execution_count": 4,
   "id": "3be76376-cd27-42aa-8a1b-8709eddb21f9",
   "metadata": {},
   "outputs": [],
   "source": [
    "df = pd.DataFrame(data = {'course_name' : course_name, 'duration' : duration})"
   ]
  },
  {
   "cell_type": "code",
   "execution_count": 5,
   "id": "8d7848e9-a7b1-471f-8131-94c4aa35960b",
   "metadata": {},
   "outputs": [
    {
     "data": {
      "text/html": [
       "<div>\n",
       "<style scoped>\n",
       "    .dataframe tbody tr th:only-of-type {\n",
       "        vertical-align: middle;\n",
       "    }\n",
       "\n",
       "    .dataframe tbody tr th {\n",
       "        vertical-align: top;\n",
       "    }\n",
       "\n",
       "    .dataframe thead th {\n",
       "        text-align: right;\n",
       "    }\n",
       "</style>\n",
       "<table border=\"1\" class=\"dataframe\">\n",
       "  <thead>\n",
       "    <tr style=\"text-align: right;\">\n",
       "      <th></th>\n",
       "      <th>course_name</th>\n",
       "      <th>duration</th>\n",
       "    </tr>\n",
       "  </thead>\n",
       "  <tbody>\n",
       "    <tr>\n",
       "      <th>0</th>\n",
       "      <td>Data Science</td>\n",
       "      <td>2</td>\n",
       "    </tr>\n",
       "    <tr>\n",
       "      <th>1</th>\n",
       "      <td>Machine Learning</td>\n",
       "      <td>3</td>\n",
       "    </tr>\n",
       "    <tr>\n",
       "      <th>2</th>\n",
       "      <td>Big Data</td>\n",
       "      <td>6</td>\n",
       "    </tr>\n",
       "    <tr>\n",
       "      <th>3</th>\n",
       "      <td>Data Engineer</td>\n",
       "      <td>4</td>\n",
       "    </tr>\n",
       "  </tbody>\n",
       "</table>\n",
       "</div>"
      ],
      "text/plain": [
       "        course_name  duration\n",
       "0      Data Science         2\n",
       "1  Machine Learning         3\n",
       "2          Big Data         6\n",
       "3     Data Engineer         4"
      ]
     },
     "execution_count": 5,
     "metadata": {},
     "output_type": "execute_result"
    }
   ],
   "source": [
    "df"
   ]
  },
  {
   "cell_type": "code",
   "execution_count": 6,
   "id": "22fe7ace-f7eb-4e16-88ce-3c2de367d218",
   "metadata": {},
   "outputs": [],
   "source": [
    "df = df.transpose()"
   ]
  },
  {
   "cell_type": "code",
   "execution_count": 7,
   "id": "fe2f2f22-882d-47f0-93be-da3e2ccd9165",
   "metadata": {},
   "outputs": [
    {
     "data": {
      "text/plain": [
       "course_name    Machine Learning\n",
       "duration                      3\n",
       "Name: 1, dtype: object"
      ]
     },
     "execution_count": 7,
     "metadata": {},
     "output_type": "execute_result"
    }
   ],
   "source": [
    "df[1]"
   ]
  },
  {
   "cell_type": "code",
   "execution_count": 8,
   "id": "aeb45ff3-6048-443e-b678-4c7b7023e4b6",
   "metadata": {},
   "outputs": [],
   "source": [
    "#Q2. What is the difference between the functions loc and iloc in pandas.DataFrame?"
   ]
  },
  {
   "cell_type": "code",
   "execution_count": 9,
   "id": "e016f758-f19f-42c8-abc8-11821c47fe82",
   "metadata": {},
   "outputs": [
    {
     "data": {
      "text/html": [
       "<div>\n",
       "<style scoped>\n",
       "    .dataframe tbody tr th:only-of-type {\n",
       "        vertical-align: middle;\n",
       "    }\n",
       "\n",
       "    .dataframe tbody tr th {\n",
       "        vertical-align: top;\n",
       "    }\n",
       "\n",
       "    .dataframe thead th {\n",
       "        text-align: right;\n",
       "    }\n",
       "</style>\n",
       "<table border=\"1\" class=\"dataframe\">\n",
       "  <thead>\n",
       "    <tr style=\"text-align: right;\">\n",
       "      <th></th>\n",
       "      <th>duration</th>\n",
       "    </tr>\n",
       "  </thead>\n",
       "  <tbody>\n",
       "    <tr>\n",
       "      <th>0</th>\n",
       "      <td>2</td>\n",
       "    </tr>\n",
       "    <tr>\n",
       "      <th>1</th>\n",
       "      <td>3</td>\n",
       "    </tr>\n",
       "  </tbody>\n",
       "</table>\n",
       "</div>"
      ],
      "text/plain": [
       "  duration\n",
       "0        2\n",
       "1        3"
      ]
     },
     "execution_count": 9,
     "metadata": {},
     "output_type": "execute_result"
    }
   ],
   "source": [
    "#Ans:loc is typically used for label indexing and can access multiple columns, while . iloc is used for integer indexing.\n",
    "#For example lets take the above example\n",
    "df.transpose().iloc[0:2,[1]]\n"
   ]
  },
  {
   "cell_type": "code",
   "execution_count": 10,
   "id": "cd8eb116-dcf0-4d1a-ac11-901fe5d7b938",
   "metadata": {},
   "outputs": [
    {
     "data": {
      "text/html": [
       "<div>\n",
       "<style scoped>\n",
       "    .dataframe tbody tr th:only-of-type {\n",
       "        vertical-align: middle;\n",
       "    }\n",
       "\n",
       "    .dataframe tbody tr th {\n",
       "        vertical-align: top;\n",
       "    }\n",
       "\n",
       "    .dataframe thead th {\n",
       "        text-align: right;\n",
       "    }\n",
       "</style>\n",
       "<table border=\"1\" class=\"dataframe\">\n",
       "  <thead>\n",
       "    <tr style=\"text-align: right;\">\n",
       "      <th></th>\n",
       "      <th>course_name</th>\n",
       "    </tr>\n",
       "  </thead>\n",
       "  <tbody>\n",
       "    <tr>\n",
       "      <th>0</th>\n",
       "      <td>Data Science</td>\n",
       "    </tr>\n",
       "    <tr>\n",
       "      <th>1</th>\n",
       "      <td>Machine Learning</td>\n",
       "    </tr>\n",
       "  </tbody>\n",
       "</table>\n",
       "</div>"
      ],
      "text/plain": [
       "        course_name\n",
       "0      Data Science\n",
       "1  Machine Learning"
      ]
     },
     "execution_count": 10,
     "metadata": {},
     "output_type": "execute_result"
    }
   ],
   "source": [
    "df.transpose().loc[0:1,['course_name']]"
   ]
  },
  {
   "cell_type": "code",
   "execution_count": 11,
   "id": "acd3e398-f550-4009-b4c8-0871be87a30b",
   "metadata": {},
   "outputs": [],
   "source": [
    "#Q3. Reindex the given dataframe using a variable, reindex = [3,0,1,2] and store it in the variable, new_df then find the output for both new_df.loc[2] and new_df.iloc[2].\n",
    "#Ans:\n",
    "df = pd.DataFrame(data = {'course_name' : course_name, 'duration' : duration})"
   ]
  },
  {
   "cell_type": "code",
   "execution_count": 12,
   "id": "8a26410f-c83d-43bd-9811-d35125d36d97",
   "metadata": {},
   "outputs": [],
   "source": [
    "new_df = df.reindex([3,0,2,1])"
   ]
  },
  {
   "cell_type": "code",
   "execution_count": 13,
   "id": "8d65b8d0-d4c6-4882-9393-7c3f6dfe11fd",
   "metadata": {},
   "outputs": [
    {
     "data": {
      "text/plain": [
       "course_name    Big Data\n",
       "duration              6\n",
       "Name: 2, dtype: object"
      ]
     },
     "execution_count": 13,
     "metadata": {},
     "output_type": "execute_result"
    }
   ],
   "source": [
    "new_df.loc[2]"
   ]
  },
  {
   "cell_type": "code",
   "execution_count": 14,
   "id": "3db70776-9e38-4b8e-adc1-018e632fd98a",
   "metadata": {},
   "outputs": [
    {
     "data": {
      "text/plain": [
       "course_name    Big Data\n",
       "duration              6\n",
       "Name: 2, dtype: object"
      ]
     },
     "execution_count": 14,
     "metadata": {},
     "output_type": "execute_result"
    }
   ],
   "source": [
    "new_df.iloc[2]"
   ]
  },
  {
   "cell_type": "code",
   "execution_count": 15,
   "id": "299ba8ba-38e7-4c11-90b2-0130cd1e3820",
   "metadata": {},
   "outputs": [],
   "source": [
    "#Q4. Write a code to find the following statistical measurements for the above dataframe df1:\n",
    "#(i) mean of each and every column present in the dataframe.\n",
    "#(ii) standard deviation of column, ‘column_2’"
   ]
  },
  {
   "cell_type": "code",
   "execution_count": 16,
   "id": "8d71aaa8-78b7-4b3f-a6f0-2ddcebe6e625",
   "metadata": {},
   "outputs": [],
   "source": [
    "import pandas as pd\n",
    "import numpy as np\n",
    "columns = ['column_1', 'column_2', 'column_3', 'column_4', 'column_5', 'column_6']\n",
    "indices = [1,2,3,4,5,6]\n",
    "#Creating a dataframe:\n",
    "df1 = pd.DataFrame(np.random.rand(6,6), columns = columns, index = indices)"
   ]
  },
  {
   "cell_type": "code",
   "execution_count": 17,
   "id": "4296ef2e-c57d-4e98-8f8c-c09d9604af91",
   "metadata": {},
   "outputs": [
    {
     "data": {
      "text/html": [
       "<div>\n",
       "<style scoped>\n",
       "    .dataframe tbody tr th:only-of-type {\n",
       "        vertical-align: middle;\n",
       "    }\n",
       "\n",
       "    .dataframe tbody tr th {\n",
       "        vertical-align: top;\n",
       "    }\n",
       "\n",
       "    .dataframe thead th {\n",
       "        text-align: right;\n",
       "    }\n",
       "</style>\n",
       "<table border=\"1\" class=\"dataframe\">\n",
       "  <thead>\n",
       "    <tr style=\"text-align: right;\">\n",
       "      <th></th>\n",
       "      <th>column_1</th>\n",
       "      <th>column_2</th>\n",
       "      <th>column_3</th>\n",
       "      <th>column_4</th>\n",
       "      <th>column_5</th>\n",
       "      <th>column_6</th>\n",
       "    </tr>\n",
       "  </thead>\n",
       "  <tbody>\n",
       "    <tr>\n",
       "      <th>1</th>\n",
       "      <td>0.520229</td>\n",
       "      <td>0.905621</td>\n",
       "      <td>0.352328</td>\n",
       "      <td>0.370601</td>\n",
       "      <td>0.162601</td>\n",
       "      <td>0.614557</td>\n",
       "    </tr>\n",
       "    <tr>\n",
       "      <th>2</th>\n",
       "      <td>0.429175</td>\n",
       "      <td>0.324352</td>\n",
       "      <td>0.532258</td>\n",
       "      <td>0.520316</td>\n",
       "      <td>0.618745</td>\n",
       "      <td>0.854931</td>\n",
       "    </tr>\n",
       "    <tr>\n",
       "      <th>3</th>\n",
       "      <td>0.004657</td>\n",
       "      <td>0.070485</td>\n",
       "      <td>0.454907</td>\n",
       "      <td>0.822688</td>\n",
       "      <td>0.293343</td>\n",
       "      <td>0.853460</td>\n",
       "    </tr>\n",
       "    <tr>\n",
       "      <th>4</th>\n",
       "      <td>0.767561</td>\n",
       "      <td>0.880471</td>\n",
       "      <td>0.831605</td>\n",
       "      <td>0.824720</td>\n",
       "      <td>0.663033</td>\n",
       "      <td>0.213749</td>\n",
       "    </tr>\n",
       "    <tr>\n",
       "      <th>5</th>\n",
       "      <td>0.799135</td>\n",
       "      <td>0.997532</td>\n",
       "      <td>0.186600</td>\n",
       "      <td>0.619353</td>\n",
       "      <td>0.624216</td>\n",
       "      <td>0.076172</td>\n",
       "    </tr>\n",
       "    <tr>\n",
       "      <th>6</th>\n",
       "      <td>0.085007</td>\n",
       "      <td>0.845789</td>\n",
       "      <td>0.488766</td>\n",
       "      <td>0.680719</td>\n",
       "      <td>0.934669</td>\n",
       "      <td>0.208741</td>\n",
       "    </tr>\n",
       "  </tbody>\n",
       "</table>\n",
       "</div>"
      ],
      "text/plain": [
       "   column_1  column_2  column_3  column_4  column_5  column_6\n",
       "1  0.520229  0.905621  0.352328  0.370601  0.162601  0.614557\n",
       "2  0.429175  0.324352  0.532258  0.520316  0.618745  0.854931\n",
       "3  0.004657  0.070485  0.454907  0.822688  0.293343  0.853460\n",
       "4  0.767561  0.880471  0.831605  0.824720  0.663033  0.213749\n",
       "5  0.799135  0.997532  0.186600  0.619353  0.624216  0.076172\n",
       "6  0.085007  0.845789  0.488766  0.680719  0.934669  0.208741"
      ]
     },
     "execution_count": 17,
     "metadata": {},
     "output_type": "execute_result"
    }
   ],
   "source": [
    "df1"
   ]
  },
  {
   "cell_type": "code",
   "execution_count": 18,
   "id": "a1957400-8bd0-4b4c-99de-749007a6154f",
   "metadata": {},
   "outputs": [
    {
     "data": {
      "text/plain": [
       "column_1    0.434294\n",
       "column_2    0.670708\n",
       "column_3    0.474411\n",
       "column_4    0.639733\n",
       "column_5    0.549435\n",
       "column_6    0.470268\n",
       "dtype: float64"
      ]
     },
     "execution_count": 18,
     "metadata": {},
     "output_type": "execute_result"
    }
   ],
   "source": [
    "df1.mean()"
   ]
  },
  {
   "cell_type": "code",
   "execution_count": 19,
   "id": "0d519600-6362-4eb6-91aa-d3b4e4dbeeb8",
   "metadata": {},
   "outputs": [
    {
     "data": {
      "text/plain": [
       "0.3786507456940344"
      ]
     },
     "execution_count": 19,
     "metadata": {},
     "output_type": "execute_result"
    }
   ],
   "source": [
    "df1['column_2'].std()"
   ]
  },
  {
   "cell_type": "code",
   "execution_count": 20,
   "id": "e4019681-b902-4cb4-af90-08414a740df9",
   "metadata": {},
   "outputs": [],
   "source": [
    "#Q5. Replace the data present in the second row of column, ‘column_2’ by a string variable then find the mean of column, column_2.\n",
    "#If you are getting errors in executing it then explain why."
   ]
  },
  {
   "cell_type": "code",
   "execution_count": 21,
   "id": "0e01c02b-aee7-4d7b-921e-e88c585bff25",
   "metadata": {},
   "outputs": [
    {
     "data": {
      "text/html": [
       "<div>\n",
       "<style scoped>\n",
       "    .dataframe tbody tr th:only-of-type {\n",
       "        vertical-align: middle;\n",
       "    }\n",
       "\n",
       "    .dataframe tbody tr th {\n",
       "        vertical-align: top;\n",
       "    }\n",
       "\n",
       "    .dataframe thead th {\n",
       "        text-align: right;\n",
       "    }\n",
       "</style>\n",
       "<table border=\"1\" class=\"dataframe\">\n",
       "  <thead>\n",
       "    <tr style=\"text-align: right;\">\n",
       "      <th></th>\n",
       "      <th>column_1</th>\n",
       "      <th>column_2</th>\n",
       "      <th>column_3</th>\n",
       "      <th>column_4</th>\n",
       "      <th>column_5</th>\n",
       "      <th>column_6</th>\n",
       "    </tr>\n",
       "  </thead>\n",
       "  <tbody>\n",
       "    <tr>\n",
       "      <th>1</th>\n",
       "      <td>0.520229</td>\n",
       "      <td>0.905621</td>\n",
       "      <td>0.352328</td>\n",
       "      <td>0.370601</td>\n",
       "      <td>0.162601</td>\n",
       "      <td>0.614557</td>\n",
       "    </tr>\n",
       "    <tr>\n",
       "      <th>2</th>\n",
       "      <td>0.429175</td>\n",
       "      <td>0.324352</td>\n",
       "      <td>0.532258</td>\n",
       "      <td>0.520316</td>\n",
       "      <td>0.618745</td>\n",
       "      <td>0.854931</td>\n",
       "    </tr>\n",
       "    <tr>\n",
       "      <th>3</th>\n",
       "      <td>0.004657</td>\n",
       "      <td>0.070485</td>\n",
       "      <td>0.454907</td>\n",
       "      <td>0.822688</td>\n",
       "      <td>0.293343</td>\n",
       "      <td>0.853460</td>\n",
       "    </tr>\n",
       "    <tr>\n",
       "      <th>4</th>\n",
       "      <td>0.767561</td>\n",
       "      <td>0.880471</td>\n",
       "      <td>0.831605</td>\n",
       "      <td>0.824720</td>\n",
       "      <td>0.663033</td>\n",
       "      <td>0.213749</td>\n",
       "    </tr>\n",
       "    <tr>\n",
       "      <th>5</th>\n",
       "      <td>0.799135</td>\n",
       "      <td>0.997532</td>\n",
       "      <td>0.186600</td>\n",
       "      <td>0.619353</td>\n",
       "      <td>0.624216</td>\n",
       "      <td>0.076172</td>\n",
       "    </tr>\n",
       "    <tr>\n",
       "      <th>6</th>\n",
       "      <td>0.085007</td>\n",
       "      <td>0.845789</td>\n",
       "      <td>0.488766</td>\n",
       "      <td>0.680719</td>\n",
       "      <td>0.934669</td>\n",
       "      <td>0.208741</td>\n",
       "    </tr>\n",
       "  </tbody>\n",
       "</table>\n",
       "</div>"
      ],
      "text/plain": [
       "   column_1  column_2  column_3  column_4  column_5  column_6\n",
       "1  0.520229  0.905621  0.352328  0.370601  0.162601  0.614557\n",
       "2  0.429175  0.324352  0.532258  0.520316  0.618745  0.854931\n",
       "3  0.004657  0.070485  0.454907  0.822688  0.293343  0.853460\n",
       "4  0.767561  0.880471  0.831605  0.824720  0.663033  0.213749\n",
       "5  0.799135  0.997532  0.186600  0.619353  0.624216  0.076172\n",
       "6  0.085007  0.845789  0.488766  0.680719  0.934669  0.208741"
      ]
     },
     "execution_count": 21,
     "metadata": {},
     "output_type": "execute_result"
    }
   ],
   "source": [
    "df1"
   ]
  },
  {
   "cell_type": "code",
   "execution_count": 22,
   "id": "ddc66fb9-2aa5-4b85-ab01-2e7f0ebe9929",
   "metadata": {},
   "outputs": [],
   "source": [
    "df1.loc[2,['column_2']] = 'Dipta'"
   ]
  },
  {
   "cell_type": "code",
   "execution_count": 23,
   "id": "3f464e8a-e8f2-444b-b370-ef98e0483231",
   "metadata": {},
   "outputs": [
    {
     "data": {
      "text/html": [
       "<div>\n",
       "<style scoped>\n",
       "    .dataframe tbody tr th:only-of-type {\n",
       "        vertical-align: middle;\n",
       "    }\n",
       "\n",
       "    .dataframe tbody tr th {\n",
       "        vertical-align: top;\n",
       "    }\n",
       "\n",
       "    .dataframe thead th {\n",
       "        text-align: right;\n",
       "    }\n",
       "</style>\n",
       "<table border=\"1\" class=\"dataframe\">\n",
       "  <thead>\n",
       "    <tr style=\"text-align: right;\">\n",
       "      <th></th>\n",
       "      <th>column_1</th>\n",
       "      <th>column_2</th>\n",
       "      <th>column_3</th>\n",
       "      <th>column_4</th>\n",
       "      <th>column_5</th>\n",
       "      <th>column_6</th>\n",
       "    </tr>\n",
       "  </thead>\n",
       "  <tbody>\n",
       "    <tr>\n",
       "      <th>1</th>\n",
       "      <td>0.520229</td>\n",
       "      <td>0.905621</td>\n",
       "      <td>0.352328</td>\n",
       "      <td>0.370601</td>\n",
       "      <td>0.162601</td>\n",
       "      <td>0.614557</td>\n",
       "    </tr>\n",
       "    <tr>\n",
       "      <th>2</th>\n",
       "      <td>0.429175</td>\n",
       "      <td>Dipta</td>\n",
       "      <td>0.532258</td>\n",
       "      <td>0.520316</td>\n",
       "      <td>0.618745</td>\n",
       "      <td>0.854931</td>\n",
       "    </tr>\n",
       "    <tr>\n",
       "      <th>3</th>\n",
       "      <td>0.004657</td>\n",
       "      <td>0.070485</td>\n",
       "      <td>0.454907</td>\n",
       "      <td>0.822688</td>\n",
       "      <td>0.293343</td>\n",
       "      <td>0.853460</td>\n",
       "    </tr>\n",
       "    <tr>\n",
       "      <th>4</th>\n",
       "      <td>0.767561</td>\n",
       "      <td>0.880471</td>\n",
       "      <td>0.831605</td>\n",
       "      <td>0.824720</td>\n",
       "      <td>0.663033</td>\n",
       "      <td>0.213749</td>\n",
       "    </tr>\n",
       "    <tr>\n",
       "      <th>5</th>\n",
       "      <td>0.799135</td>\n",
       "      <td>0.997532</td>\n",
       "      <td>0.186600</td>\n",
       "      <td>0.619353</td>\n",
       "      <td>0.624216</td>\n",
       "      <td>0.076172</td>\n",
       "    </tr>\n",
       "    <tr>\n",
       "      <th>6</th>\n",
       "      <td>0.085007</td>\n",
       "      <td>0.845789</td>\n",
       "      <td>0.488766</td>\n",
       "      <td>0.680719</td>\n",
       "      <td>0.934669</td>\n",
       "      <td>0.208741</td>\n",
       "    </tr>\n",
       "  </tbody>\n",
       "</table>\n",
       "</div>"
      ],
      "text/plain": [
       "   column_1  column_2  column_3  column_4  column_5  column_6\n",
       "1  0.520229  0.905621  0.352328  0.370601  0.162601  0.614557\n",
       "2  0.429175     Dipta  0.532258  0.520316  0.618745  0.854931\n",
       "3  0.004657  0.070485  0.454907  0.822688  0.293343  0.853460\n",
       "4  0.767561  0.880471  0.831605  0.824720  0.663033  0.213749\n",
       "5  0.799135  0.997532  0.186600  0.619353  0.624216  0.076172\n",
       "6  0.085007  0.845789  0.488766  0.680719  0.934669  0.208741"
      ]
     },
     "execution_count": 23,
     "metadata": {},
     "output_type": "execute_result"
    }
   ],
   "source": [
    "df1"
   ]
  },
  {
   "cell_type": "code",
   "execution_count": 24,
   "id": "825bf397-9ce3-4f85-acb2-05147d3afcd0",
   "metadata": {},
   "outputs": [
    {
     "ename": "KeyError",
     "evalue": "'course_name'",
     "output_type": "error",
     "traceback": [
      "\u001b[0;31m---------------------------------------------------------------------------\u001b[0m",
      "\u001b[0;31mKeyError\u001b[0m                                  Traceback (most recent call last)",
      "File \u001b[0;32m/opt/conda/lib/python3.10/site-packages/pandas/core/indexes/base.py:3803\u001b[0m, in \u001b[0;36mIndex.get_loc\u001b[0;34m(self, key, method, tolerance)\u001b[0m\n\u001b[1;32m   3802\u001b[0m \u001b[38;5;28;01mtry\u001b[39;00m:\n\u001b[0;32m-> 3803\u001b[0m     \u001b[38;5;28;01mreturn\u001b[39;00m \u001b[38;5;28;43mself\u001b[39;49m\u001b[38;5;241;43m.\u001b[39;49m\u001b[43m_engine\u001b[49m\u001b[38;5;241;43m.\u001b[39;49m\u001b[43mget_loc\u001b[49m\u001b[43m(\u001b[49m\u001b[43mcasted_key\u001b[49m\u001b[43m)\u001b[49m\n\u001b[1;32m   3804\u001b[0m \u001b[38;5;28;01mexcept\u001b[39;00m \u001b[38;5;167;01mKeyError\u001b[39;00m \u001b[38;5;28;01mas\u001b[39;00m err:\n",
      "File \u001b[0;32m/opt/conda/lib/python3.10/site-packages/pandas/_libs/index.pyx:138\u001b[0m, in \u001b[0;36mpandas._libs.index.IndexEngine.get_loc\u001b[0;34m()\u001b[0m\n",
      "File \u001b[0;32m/opt/conda/lib/python3.10/site-packages/pandas/_libs/index.pyx:165\u001b[0m, in \u001b[0;36mpandas._libs.index.IndexEngine.get_loc\u001b[0;34m()\u001b[0m\n",
      "File \u001b[0;32mpandas/_libs/hashtable_class_helper.pxi:5745\u001b[0m, in \u001b[0;36mpandas._libs.hashtable.PyObjectHashTable.get_item\u001b[0;34m()\u001b[0m\n",
      "File \u001b[0;32mpandas/_libs/hashtable_class_helper.pxi:5753\u001b[0m, in \u001b[0;36mpandas._libs.hashtable.PyObjectHashTable.get_item\u001b[0;34m()\u001b[0m\n",
      "\u001b[0;31mKeyError\u001b[0m: 'course_name'",
      "\nThe above exception was the direct cause of the following exception:\n",
      "\u001b[0;31mKeyError\u001b[0m                                  Traceback (most recent call last)",
      "Cell \u001b[0;32mIn[24], line 1\u001b[0m\n\u001b[0;32m----> 1\u001b[0m \u001b[43mdf1\u001b[49m\u001b[43m[\u001b[49m\u001b[38;5;124;43m'\u001b[39;49m\u001b[38;5;124;43mcourse_name\u001b[39;49m\u001b[38;5;124;43m'\u001b[39;49m\u001b[43m]\u001b[49m\u001b[38;5;241m.\u001b[39mmean()\n",
      "File \u001b[0;32m/opt/conda/lib/python3.10/site-packages/pandas/core/frame.py:3805\u001b[0m, in \u001b[0;36mDataFrame.__getitem__\u001b[0;34m(self, key)\u001b[0m\n\u001b[1;32m   3803\u001b[0m \u001b[38;5;28;01mif\u001b[39;00m \u001b[38;5;28mself\u001b[39m\u001b[38;5;241m.\u001b[39mcolumns\u001b[38;5;241m.\u001b[39mnlevels \u001b[38;5;241m>\u001b[39m \u001b[38;5;241m1\u001b[39m:\n\u001b[1;32m   3804\u001b[0m     \u001b[38;5;28;01mreturn\u001b[39;00m \u001b[38;5;28mself\u001b[39m\u001b[38;5;241m.\u001b[39m_getitem_multilevel(key)\n\u001b[0;32m-> 3805\u001b[0m indexer \u001b[38;5;241m=\u001b[39m \u001b[38;5;28;43mself\u001b[39;49m\u001b[38;5;241;43m.\u001b[39;49m\u001b[43mcolumns\u001b[49m\u001b[38;5;241;43m.\u001b[39;49m\u001b[43mget_loc\u001b[49m\u001b[43m(\u001b[49m\u001b[43mkey\u001b[49m\u001b[43m)\u001b[49m\n\u001b[1;32m   3806\u001b[0m \u001b[38;5;28;01mif\u001b[39;00m is_integer(indexer):\n\u001b[1;32m   3807\u001b[0m     indexer \u001b[38;5;241m=\u001b[39m [indexer]\n",
      "File \u001b[0;32m/opt/conda/lib/python3.10/site-packages/pandas/core/indexes/base.py:3805\u001b[0m, in \u001b[0;36mIndex.get_loc\u001b[0;34m(self, key, method, tolerance)\u001b[0m\n\u001b[1;32m   3803\u001b[0m     \u001b[38;5;28;01mreturn\u001b[39;00m \u001b[38;5;28mself\u001b[39m\u001b[38;5;241m.\u001b[39m_engine\u001b[38;5;241m.\u001b[39mget_loc(casted_key)\n\u001b[1;32m   3804\u001b[0m \u001b[38;5;28;01mexcept\u001b[39;00m \u001b[38;5;167;01mKeyError\u001b[39;00m \u001b[38;5;28;01mas\u001b[39;00m err:\n\u001b[0;32m-> 3805\u001b[0m     \u001b[38;5;28;01mraise\u001b[39;00m \u001b[38;5;167;01mKeyError\u001b[39;00m(key) \u001b[38;5;28;01mfrom\u001b[39;00m \u001b[38;5;21;01merr\u001b[39;00m\n\u001b[1;32m   3806\u001b[0m \u001b[38;5;28;01mexcept\u001b[39;00m \u001b[38;5;167;01mTypeError\u001b[39;00m:\n\u001b[1;32m   3807\u001b[0m     \u001b[38;5;66;03m# If we have a listlike key, _check_indexing_error will raise\u001b[39;00m\n\u001b[1;32m   3808\u001b[0m     \u001b[38;5;66;03m#  InvalidIndexError. Otherwise we fall through and re-raise\u001b[39;00m\n\u001b[1;32m   3809\u001b[0m     \u001b[38;5;66;03m#  the TypeError.\u001b[39;00m\n\u001b[1;32m   3810\u001b[0m     \u001b[38;5;28mself\u001b[39m\u001b[38;5;241m.\u001b[39m_check_indexing_error(key)\n",
      "\u001b[0;31mKeyError\u001b[0m: 'course_name'"
     ]
    }
   ],
   "source": [
    "df1['course_name'].mean()"
   ]
  },
  {
   "cell_type": "code",
   "execution_count": null,
   "id": "743d89b0-00d9-4874-9970-aebe87383cca",
   "metadata": {},
   "outputs": [],
   "source": [
    "#As we see we cannot get the mean as this function cannot add string value and numeric value together.And simply the error is 'KeyError' here."
   ]
  },
  {
   "cell_type": "code",
   "execution_count": null,
   "id": "174c8cb2-a7f7-419e-857d-4473aed413f4",
   "metadata": {},
   "outputs": [],
   "source": [
    "#Q6. What do you understand about the windows function in pandas and list the types of windows functions?"
   ]
  },
  {
   "cell_type": "code",
   "execution_count": 25,
   "id": "2bab98c9-b2d0-4657-88c7-af6a50895208",
   "metadata": {},
   "outputs": [],
   "source": [
    "#Ans: Pandas Window functions are functions where the input values are taken from a “window” of one or more rows in a series or a table and calculation is performed over them. The word window means the number of rows between the two boundaries by which we perform calculations including the boundary rows.\n",
    "#There are 4 types of windows functions. These are:-\n",
    "#1.Rolling Window, 2.Weighted Window ,3.Expanding Window ,4.Exponentially Weighted window"
   ]
  },
  {
   "cell_type": "code",
   "execution_count": 26,
   "id": "0e161616-911f-4a92-b095-1f1e7df4e9d5",
   "metadata": {},
   "outputs": [],
   "source": [
    "#Q7. Write a code to print only the current month and year at the time of answering this question."
   ]
  },
  {
   "cell_type": "code",
   "execution_count": 27,
   "id": "835fb634-4702-49cd-827d-cb21af9a7e7b",
   "metadata": {},
   "outputs": [],
   "source": [
    "from datetime import datetime\n",
    "curr_Month= datetime.now().month\n",
    "curr_Year = datetime.now().year"
   ]
  },
  {
   "cell_type": "code",
   "execution_count": 28,
   "id": "b28b7b61-3446-4284-9f67-418e7c2fa606",
   "metadata": {},
   "outputs": [
    {
     "data": {
      "text/plain": [
       "5"
      ]
     },
     "execution_count": 28,
     "metadata": {},
     "output_type": "execute_result"
    }
   ],
   "source": [
    "curr_Month"
   ]
  },
  {
   "cell_type": "code",
   "execution_count": 29,
   "id": "c6570abb-98e8-4f44-b050-fe86f3981196",
   "metadata": {},
   "outputs": [
    {
     "data": {
      "text/plain": [
       "2023"
      ]
     },
     "execution_count": 29,
     "metadata": {},
     "output_type": "execute_result"
    }
   ],
   "source": [
    "curr_Year"
   ]
  },
  {
   "cell_type": "code",
   "execution_count": 30,
   "id": "fa5188a1-4739-46c6-b741-88e4a1db3fec",
   "metadata": {},
   "outputs": [
    {
     "name": "stdin",
     "output_type": "stream",
     "text": [
      "Enter  a year:  1990\n",
      "Enter  a month:  12\n",
      "Enter a day:  03\n"
     ]
    },
    {
     "name": "stdout",
     "output_type": "stream",
     "text": [
      "1990-12-03\n"
     ]
    },
    {
     "name": "stdin",
     "output_type": "stream",
     "text": [
      "Enter a year:  2001\n",
      "Enter a month:  6\n",
      "Enter a day:  30\n"
     ]
    },
    {
     "name": "stdout",
     "output_type": "stream",
     "text": [
      "2001-06-30\n",
      "Difference of Days : 3862.0\n",
      "Difference of Hours : 92688.0\n",
      "Difference of Minutes : 5561280.0\n"
     ]
    }
   ],
   "source": [
    "#Q8. Write a Python program that takes in two dates as input (in the format YYYY-MM-DD) and calculates the difference between them in days, hours, and minutes using Pandas time delta. The program should prompt the user to enter the dates and display the result.\n",
    "#Ans:\n",
    "from datetime import datetime, time , date\n",
    "year = int(input('Enter  a year: '))\n",
    "month = int(input('Enter  a month: '))\n",
    "day = int(input('Enter a day: '))\n",
    "d1 = date(year, month, day)\n",
    "print(d1)\n",
    "year = int(input('Enter a year: '))\n",
    "month = int(input('Enter a month: '))\n",
    "day = int(input('Enter a day: '))\n",
    "\n",
    "d2 = date(year, month, day)\n",
    "print(d2)\n",
    "\n",
    "delta = d2 - d1\n",
    "seconds=delta.days * 24 * 3600 + delta.seconds\n",
    "minutes = seconds/ 60\n",
    "hours = minutes/ 60\n",
    "days = hours/ 24\n",
    "print(\"Difference of Days :\",days)\n",
    "print(\"Difference of Hours :\",hours)\n",
    "print(\"Difference of Minutes :\",minutes)"
   ]
  },
  {
   "cell_type": "code",
   "execution_count": 31,
   "id": "277547c0-3812-4a3c-a671-a9e18402eb13",
   "metadata": {},
   "outputs": [
    {
     "name": "stdin",
     "output_type": "stream",
     "text": [
      "Enter the csv file :  players_data.csv\n"
     ]
    },
    {
     "name": "stdout",
     "output_type": "stream",
     "text": [
      "Index(['Rk', 'Player', 'Pos', 'Age', 'Tm', 'G', 'GS', 'MP', 'FG', 'FGA', 'FG%',\n",
      "       '3P', '3PA', '3P%', '2P', '2PA', '2P%', 'eFG%', 'FT', 'FTA', 'FT%',\n",
      "       'ORB', 'DRB', 'TRB', 'AST', 'STL', 'BLK', 'TOV', 'PF', 'PTS'],\n",
      "      dtype='object')\n"
     ]
    },
    {
     "name": "stdin",
     "output_type": "stream",
     "text": [
      "Enter the column name :  Pos\n"
     ]
    },
    {
     "name": "stdout",
     "output_type": "stream",
     "text": [
      "The coverted categorical data type is :  ['PF', 'SG', 'C', 'PF', 'SG', ..., 'PF', 'PF', 'PF', 'C', 'C']\n",
      "Length: 675\n",
      "Categories (12, object): ['C', 'PF', 'PF-SF', 'PG', ..., 'SF-SG', 'SG', 'SG-PG', 'SG-SF']\n",
      "The sorted data is : \n"
     ]
    },
    {
     "data": {
      "text/html": [
       "<div>\n",
       "<style scoped>\n",
       "    .dataframe tbody tr th:only-of-type {\n",
       "        vertical-align: middle;\n",
       "    }\n",
       "\n",
       "    .dataframe tbody tr th {\n",
       "        vertical-align: top;\n",
       "    }\n",
       "\n",
       "    .dataframe thead th {\n",
       "        text-align: right;\n",
       "    }\n",
       "</style>\n",
       "<table border=\"1\" class=\"dataframe\">\n",
       "  <thead>\n",
       "    <tr style=\"text-align: right;\">\n",
       "      <th></th>\n",
       "      <th>Rk</th>\n",
       "      <th>Player</th>\n",
       "      <th>Pos</th>\n",
       "      <th>Age</th>\n",
       "      <th>Tm</th>\n",
       "      <th>G</th>\n",
       "      <th>GS</th>\n",
       "      <th>MP</th>\n",
       "      <th>FG</th>\n",
       "      <th>FGA</th>\n",
       "      <th>...</th>\n",
       "      <th>FT%</th>\n",
       "      <th>ORB</th>\n",
       "      <th>DRB</th>\n",
       "      <th>TRB</th>\n",
       "      <th>AST</th>\n",
       "      <th>STL</th>\n",
       "      <th>BLK</th>\n",
       "      <th>TOV</th>\n",
       "      <th>PF</th>\n",
       "      <th>PTS</th>\n",
       "    </tr>\n",
       "  </thead>\n",
       "  <tbody>\n",
       "    <tr>\n",
       "      <th>674</th>\n",
       "      <td>492</td>\n",
       "      <td>Tyler Zeller</td>\n",
       "      <td>C</td>\n",
       "      <td>25</td>\n",
       "      <td>BOS</td>\n",
       "      <td>82</td>\n",
       "      <td>59</td>\n",
       "      <td>1731</td>\n",
       "      <td>340</td>\n",
       "      <td>619</td>\n",
       "      <td>...</td>\n",
       "      <td>.823</td>\n",
       "      <td>146</td>\n",
       "      <td>319</td>\n",
       "      <td>465</td>\n",
       "      <td>113</td>\n",
       "      <td>18</td>\n",
       "      <td>52</td>\n",
       "      <td>76</td>\n",
       "      <td>205</td>\n",
       "      <td>833</td>\n",
       "    </tr>\n",
       "    <tr>\n",
       "      <th>367</th>\n",
       "      <td>286</td>\n",
       "      <td>Brook Lopez</td>\n",
       "      <td>C</td>\n",
       "      <td>26</td>\n",
       "      <td>BRK</td>\n",
       "      <td>72</td>\n",
       "      <td>44</td>\n",
       "      <td>2100</td>\n",
       "      <td>506</td>\n",
       "      <td>987</td>\n",
       "      <td>...</td>\n",
       "      <td>.814</td>\n",
       "      <td>214</td>\n",
       "      <td>321</td>\n",
       "      <td>535</td>\n",
       "      <td>50</td>\n",
       "      <td>43</td>\n",
       "      <td>126</td>\n",
       "      <td>104</td>\n",
       "      <td>206</td>\n",
       "      <td>1236</td>\n",
       "    </tr>\n",
       "    <tr>\n",
       "      <th>368</th>\n",
       "      <td>287</td>\n",
       "      <td>Robin Lopez</td>\n",
       "      <td>C</td>\n",
       "      <td>26</td>\n",
       "      <td>POR</td>\n",
       "      <td>59</td>\n",
       "      <td>59</td>\n",
       "      <td>1638</td>\n",
       "      <td>234</td>\n",
       "      <td>437</td>\n",
       "      <td>...</td>\n",
       "      <td>.772</td>\n",
       "      <td>190</td>\n",
       "      <td>204</td>\n",
       "      <td>394</td>\n",
       "      <td>55</td>\n",
       "      <td>16</td>\n",
       "      <td>84</td>\n",
       "      <td>73</td>\n",
       "      <td>122</td>\n",
       "      <td>566</td>\n",
       "    </tr>\n",
       "    <tr>\n",
       "      <th>374</th>\n",
       "      <td>293</td>\n",
       "      <td>Ian Mahinmi</td>\n",
       "      <td>C</td>\n",
       "      <td>28</td>\n",
       "      <td>IND</td>\n",
       "      <td>61</td>\n",
       "      <td>6</td>\n",
       "      <td>1146</td>\n",
       "      <td>117</td>\n",
       "      <td>212</td>\n",
       "      <td>...</td>\n",
       "      <td>.304</td>\n",
       "      <td>105</td>\n",
       "      <td>251</td>\n",
       "      <td>356</td>\n",
       "      <td>33</td>\n",
       "      <td>30</td>\n",
       "      <td>46</td>\n",
       "      <td>59</td>\n",
       "      <td>172</td>\n",
       "      <td>265</td>\n",
       "    </tr>\n",
       "    <tr>\n",
       "      <th>130</th>\n",
       "      <td>104</td>\n",
       "      <td>DeMarcus Cousins</td>\n",
       "      <td>C</td>\n",
       "      <td>24</td>\n",
       "      <td>SAC</td>\n",
       "      <td>59</td>\n",
       "      <td>59</td>\n",
       "      <td>2013</td>\n",
       "      <td>498</td>\n",
       "      <td>1066</td>\n",
       "      <td>...</td>\n",
       "      <td>.782</td>\n",
       "      <td>185</td>\n",
       "      <td>562</td>\n",
       "      <td>747</td>\n",
       "      <td>210</td>\n",
       "      <td>90</td>\n",
       "      <td>103</td>\n",
       "      <td>254</td>\n",
       "      <td>241</td>\n",
       "      <td>1421</td>\n",
       "    </tr>\n",
       "    <tr>\n",
       "      <th>...</th>\n",
       "      <td>...</td>\n",
       "      <td>...</td>\n",
       "      <td>...</td>\n",
       "      <td>...</td>\n",
       "      <td>...</td>\n",
       "      <td>...</td>\n",
       "      <td>...</td>\n",
       "      <td>...</td>\n",
       "      <td>...</td>\n",
       "      <td>...</td>\n",
       "      <td>...</td>\n",
       "      <td>...</td>\n",
       "      <td>...</td>\n",
       "      <td>...</td>\n",
       "      <td>...</td>\n",
       "      <td>...</td>\n",
       "      <td>...</td>\n",
       "      <td>...</td>\n",
       "      <td>...</td>\n",
       "      <td>...</td>\n",
       "      <td>...</td>\n",
       "    </tr>\n",
       "    <tr>\n",
       "      <th>563</th>\n",
       "      <td>415</td>\n",
       "      <td>J.R. Smith</td>\n",
       "      <td>SG</td>\n",
       "      <td>29</td>\n",
       "      <td>NYK</td>\n",
       "      <td>24</td>\n",
       "      <td>6</td>\n",
       "      <td>619</td>\n",
       "      <td>101</td>\n",
       "      <td>251</td>\n",
       "      <td>...</td>\n",
       "      <td>.692</td>\n",
       "      <td>4</td>\n",
       "      <td>54</td>\n",
       "      <td>58</td>\n",
       "      <td>81</td>\n",
       "      <td>18</td>\n",
       "      <td>4</td>\n",
       "      <td>45</td>\n",
       "      <td>44</td>\n",
       "      <td>261</td>\n",
       "    </tr>\n",
       "    <tr>\n",
       "      <th>155</th>\n",
       "      <td>120</td>\n",
       "      <td>Andre Dawkins</td>\n",
       "      <td>SG</td>\n",
       "      <td>23</td>\n",
       "      <td>MIA</td>\n",
       "      <td>4</td>\n",
       "      <td>0</td>\n",
       "      <td>22</td>\n",
       "      <td>1</td>\n",
       "      <td>6</td>\n",
       "      <td>...</td>\n",
       "      <td>NaN</td>\n",
       "      <td>0</td>\n",
       "      <td>2</td>\n",
       "      <td>2</td>\n",
       "      <td>1</td>\n",
       "      <td>0</td>\n",
       "      <td>0</td>\n",
       "      <td>1</td>\n",
       "      <td>3</td>\n",
       "      <td>3</td>\n",
       "    </tr>\n",
       "    <tr>\n",
       "      <th>430</th>\n",
       "      <td>337</td>\n",
       "      <td>Toure' Murry</td>\n",
       "      <td>SG-PG</td>\n",
       "      <td>25</td>\n",
       "      <td>TOT</td>\n",
       "      <td>5</td>\n",
       "      <td>0</td>\n",
       "      <td>18</td>\n",
       "      <td>2</td>\n",
       "      <td>5</td>\n",
       "      <td>...</td>\n",
       "      <td>1.000</td>\n",
       "      <td>1</td>\n",
       "      <td>0</td>\n",
       "      <td>1</td>\n",
       "      <td>1</td>\n",
       "      <td>1</td>\n",
       "      <td>0</td>\n",
       "      <td>4</td>\n",
       "      <td>2</td>\n",
       "      <td>6</td>\n",
       "    </tr>\n",
       "    <tr>\n",
       "      <th>170</th>\n",
       "      <td>132</td>\n",
       "      <td>Goran Dragić</td>\n",
       "      <td>SG-PG</td>\n",
       "      <td>28</td>\n",
       "      <td>TOT</td>\n",
       "      <td>78</td>\n",
       "      <td>78</td>\n",
       "      <td>2640</td>\n",
       "      <td>502</td>\n",
       "      <td>1002</td>\n",
       "      <td>...</td>\n",
       "      <td>.774</td>\n",
       "      <td>81</td>\n",
       "      <td>193</td>\n",
       "      <td>274</td>\n",
       "      <td>350</td>\n",
       "      <td>78</td>\n",
       "      <td>15</td>\n",
       "      <td>173</td>\n",
       "      <td>195</td>\n",
       "      <td>1275</td>\n",
       "    </tr>\n",
       "    <tr>\n",
       "      <th>515</th>\n",
       "      <td>388</td>\n",
       "      <td>Glenn Robinson III</td>\n",
       "      <td>SG-SF</td>\n",
       "      <td>21</td>\n",
       "      <td>TOT</td>\n",
       "      <td>35</td>\n",
       "      <td>1</td>\n",
       "      <td>261</td>\n",
       "      <td>26</td>\n",
       "      <td>67</td>\n",
       "      <td>...</td>\n",
       "      <td>.667</td>\n",
       "      <td>15</td>\n",
       "      <td>24</td>\n",
       "      <td>39</td>\n",
       "      <td>11</td>\n",
       "      <td>6</td>\n",
       "      <td>1</td>\n",
       "      <td>11</td>\n",
       "      <td>15</td>\n",
       "      <td>73</td>\n",
       "    </tr>\n",
       "  </tbody>\n",
       "</table>\n",
       "<p>675 rows × 30 columns</p>\n",
       "</div>"
      ],
      "text/plain": [
       "      Rk              Player    Pos Age   Tm   G  GS    MP   FG   FGA  ...  \\\n",
       "674  492        Tyler Zeller      C  25  BOS  82  59  1731  340   619  ...   \n",
       "367  286         Brook Lopez      C  26  BRK  72  44  2100  506   987  ...   \n",
       "368  287         Robin Lopez      C  26  POR  59  59  1638  234   437  ...   \n",
       "374  293         Ian Mahinmi      C  28  IND  61   6  1146  117   212  ...   \n",
       "130  104    DeMarcus Cousins      C  24  SAC  59  59  2013  498  1066  ...   \n",
       "..   ...                 ...    ...  ..  ...  ..  ..   ...  ...   ...  ...   \n",
       "563  415          J.R. Smith     SG  29  NYK  24   6   619  101   251  ...   \n",
       "155  120       Andre Dawkins     SG  23  MIA   4   0    22    1     6  ...   \n",
       "430  337        Toure' Murry  SG-PG  25  TOT   5   0    18    2     5  ...   \n",
       "170  132        Goran Dragić  SG-PG  28  TOT  78  78  2640  502  1002  ...   \n",
       "515  388  Glenn Robinson III  SG-SF  21  TOT  35   1   261   26    67  ...   \n",
       "\n",
       "       FT%  ORB  DRB  TRB  AST STL  BLK  TOV   PF   PTS  \n",
       "674   .823  146  319  465  113  18   52   76  205   833  \n",
       "367   .814  214  321  535   50  43  126  104  206  1236  \n",
       "368   .772  190  204  394   55  16   84   73  122   566  \n",
       "374   .304  105  251  356   33  30   46   59  172   265  \n",
       "130   .782  185  562  747  210  90  103  254  241  1421  \n",
       "..     ...  ...  ...  ...  ...  ..  ...  ...  ...   ...  \n",
       "563   .692    4   54   58   81  18    4   45   44   261  \n",
       "155    NaN    0    2    2    1   0    0    1    3     3  \n",
       "430  1.000    1    0    1    1   1    0    4    2     6  \n",
       "170   .774   81  193  274  350  78   15  173  195  1275  \n",
       "515   .667   15   24   39   11   6    1   11   15    73  \n",
       "\n",
       "[675 rows x 30 columns]"
      ]
     },
     "execution_count": 31,
     "metadata": {},
     "output_type": "execute_result"
    }
   ],
   "source": [
    "#Q9. Write a Python program that reads a CSV file containing categorical data and converts a specified column to a categorical data type. The program should prompt the user to enter the file path, column name, and category order, and then display the sorted data.\n",
    "#Ans:\n",
    "read_csv = input(\"Enter the csv file : \")\n",
    "df = pd.read_csv(read_csv)\n",
    "print(df.columns)\n",
    "col_name = input(\"Enter the column name : \")\n",
    "df[col_name]\n",
    "print(\"The coverted categorical data type is : \",pd.Categorical(df[col_name]))\n",
    "print(\"The sorted data is : \")\n",
    "df.sort_values(col_name)\n"
   ]
  },
  {
   "cell_type": "code",
   "execution_count": 32,
   "id": "cba67d64-3be2-42b8-adb2-caaf4431e537",
   "metadata": {},
   "outputs": [
    {
     "name": "stdin",
     "output_type": "stream",
     "text": [
      "Read the csv file :  https://gist.githubusercontent.com/ranimolla/1a5b9e2b22ebf9637b81/raw/49389e47499eb068c43c9ebb1235feee728c6e0d/data.csv\n"
     ]
    },
    {
     "name": "stdout",
     "output_type": "stream",
     "text": [
      "The visualised data is :\n"
     ]
    },
    {
     "data": {
      "text/plain": [
       "<AxesSubplot: title={'center': 'The sale'}, xlabel='date'>"
      ]
     },
     "execution_count": 32,
     "metadata": {},
     "output_type": "execute_result"
    },
    {
     "data": {
      "image/png": "[encoded data removed]",
      "text/plain": [
       "<Figure size 640x480 with 1 Axes>"
      ]
     },
     "metadata": {},
     "output_type": "display_data"
    }
   ],
   "source": [
    "#Q10. Write a Python program that reads a CSV file containing sales data for different products and visualizes the data using a stacked bar chart to show the sales of each product category over time. The program should prompt the user to enter the file path and display the chart.\n",
    "#Ans:\n",
    "data = input(\"Read the csv file : \")\n",
    "pd.read_csv(data)\n",
    "print(\"The visualised data is :\")\n",
    "pd.read_csv(data).plot.bar(x='date', stacked=True, title='The sale')\n"
   ]
  },
  {
   "cell_type": "code",
   "execution_count": 49,
   "id": "b9b29fa5-f7d9-4a84-b17d-31d53aafddc4",
   "metadata": {},
   "outputs": [
    {
     "name": "stdin",
     "output_type": "stream",
     "text": [
      "Enter the csv file Book1.csv\n"
     ]
    },
    {
     "data": {
      "text/html": [
       "<div>\n",
       "<style scoped>\n",
       "    .dataframe tbody tr th:only-of-type {\n",
       "        vertical-align: middle;\n",
       "    }\n",
       "\n",
       "    .dataframe tbody tr th {\n",
       "        vertical-align: top;\n",
       "    }\n",
       "\n",
       "    .dataframe thead th {\n",
       "        text-align: right;\n",
       "    }\n",
       "</style>\n",
       "<table border=\"1\" class=\"dataframe\">\n",
       "  <thead>\n",
       "    <tr style=\"text-align: right;\">\n",
       "      <th></th>\n",
       "      <th>Value</th>\n",
       "    </tr>\n",
       "    <tr>\n",
       "      <th>Statistic</th>\n",
       "      <th></th>\n",
       "    </tr>\n",
       "  </thead>\n",
       "  <tbody>\n",
       "    <tr>\n",
       "      <th>Mean</th>\n",
       "      <td>83.5</td>\n",
       "    </tr>\n",
       "    <tr>\n",
       "      <th>Median</th>\n",
       "      <td>85.0</td>\n",
       "    </tr>\n",
       "    <tr>\n",
       "      <th>Mode</th>\n",
       "      <td>0    85\n",
       "Name: test_score, dtype: int64</td>\n",
       "    </tr>\n",
       "  </tbody>\n",
       "</table>\n",
       "</div>"
      ],
      "text/plain": [
       "                                            Value\n",
       "Statistic                                        \n",
       "Mean                                         83.5\n",
       "Median                                       85.0\n",
       "Mode       0    85\n",
       "Name: test_score, dtype: int64"
      ]
     },
     "execution_count": 49,
     "metadata": {},
     "output_type": "execute_result"
    }
   ],
   "source": [
    "#Q11. You are given a CSV file containing student data that includes the student ID and their test score. Write a Python program that reads the CSV file, calculates the mean, median, and mode of the test scores, and displays the results in a table.\n",
    "#Ans:\n",
    "students_data = input(\"Enter the csv file\")\n",
    "df = pd.read_csv(students_data)\n",
    "df1 = pd.DataFrame( {\"Statistic\" :['Mean','Median','Mode'],\n",
    "         \"Value\" :[df['test_score'].mean(),df['test_score'].median(),df['test_score'].mode()]})\n",
    "df1.set_index(\"Statistic\")\n"
   ]
  },
  {
   "cell_type": "code",
   "execution_count": null,
   "id": "7c94f38f-0ea8-4d39-aca7-f83804ba6024",
   "metadata": {},
   "outputs": [],
   "source": []
  },
  {
   "cell_type": "code",
   "execution_count": null,
   "id": "e30d097b-e34f-4670-b839-231dd4546f3a",
   "metadata": {},
   "outputs": [],
   "source": []
  }
 ],
 "metadata": {
  "kernelspec": {
   "display_name": "Python 3 (ipykernel)",
   "language": "python",
   "name": "python3"
  },
  "language_info": {
   "codemirror_mode": {
    "name": "ipython",
    "version": 3
   },
   "file_extension": ".py",
   "mimetype": "text/x-python",
   "name": "python",
   "nbconvert_exporter": "python",
   "pygments_lexer": "ipython3",
   "version": "3.10.8"
  }
 },
 "nbformat": 4,
 "nbformat_minor": 5
}
